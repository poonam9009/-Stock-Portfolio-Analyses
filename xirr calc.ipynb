{
 "cells": [
  {
   "cell_type": "code",
   "execution_count": 24,
   "metadata": {},
   "outputs": [
    {
     "name": "stdout",
     "output_type": "stream",
     "text": [
      "0.1\n",
      "0.10011\n",
      "0.12611972422451243\n",
      "0.1266204532196429\n",
      "0.126630266293407\n",
      "0.1266302699075783\n"
     ]
    }
   ],
   "source": [
    "from datetime import date\n",
    "from scipy import optimize \n",
    "\n",
    "def secant_method(tol, f, x0):\n",
    "    \"\"\"\n",
    "    Solve for x where f(x)=0, given starting x0 and tolerance.\n",
    "    \n",
    "    Arguments\n",
    "    ----------\n",
    "    tol: tolerance as percentage of final result. If two subsequent x values are with tol percent, the function will return.\n",
    "    f: a function of a single variable\n",
    "    x0: a starting value of x to begin the solver\n",
    "    Notes\n",
    "    ------\n",
    "    The secant method for finding the zero value of a function uses the following formula to find subsequent values of x. \n",
    "    \n",
    "    x(n+1) = x(n) - f(x(n))*(x(n)-x(n-1))/(f(x(n))-f(x(n-1)))\n",
    "    \n",
    "    Warning \n",
    "    --------\n",
    "    This implementation is simple and does not handle cases where there is no solution. Users requiring a more robust version should use scipy package optimize.newton.\n",
    "    \"\"\"\n",
    "\n",
    "    x1 = x0*1.1\n",
    "    while (abs(x1-x0)/abs(x1) > tol):\n",
    "        x0, x1 = x1, x1-f(x1)*(x1-x0)/(f(x1)-f(x0))\n",
    "    return x1\n",
    "\n",
    "def xnpv(rate,cashflows):\n",
    "    \"\"\"\n",
    "    Calculate the net present value of a series of cashflows at irregular intervals.\n",
    "    Arguments\n",
    "    ---------\n",
    "    * rate: the discount rate to be applied to the cash flows\n",
    "    * cashflows: a list object in which each element is a tuple of the form (date, amount), where date is a python datetime.date object and amount is an integer or floating point number. Cash outflows (investments) are represented with negative amounts, and cash inflows (returns) are positive amounts.\n",
    "    \n",
    "    Returns\n",
    "    -------\n",
    "    * returns a single value which is the NPV of the given cash flows.\n",
    "    Notes\n",
    "    ---------------\n",
    "    * The Net Present Value is the sum of each of cash flows discounted back to the date of the first cash flow. The discounted value of a given cash flow is A/(1+r)**(t-t0), where A is the amount, r is the discout rate, and (t-t0) is the time in years from the date of the first cash flow in the series (t0) to the date of the cash flow being added to the sum (t).  \n",
    "    * This function is equivalent to the Microsoft Excel function of the same name. \n",
    "    \"\"\"\n",
    "\n",
    "    chron_order = sorted(cashflows, key = lambda x: x[0])\n",
    "    t0 = chron_order[0][0] #t0 is the date of the first cash flow\n",
    "    \n",
    "    #print(t0)\n",
    "    print(rate)\n",
    "    #print(sum([cf/(1+rate)**((t-t0).days/365.0) for (t,cf) in chron_order]))\n",
    "    return sum([cf/(1+rate)**((t-t0).days/365.0) for (t,cf) in chron_order])\n",
    "\n",
    "def xirr(cashflows,guess=0.1):\n",
    "    \"\"\"\n",
    "    Calculate the Internal Rate of Return of a series of cashflows at irregular intervals.\n",
    "    Arguments\n",
    "    ---------\n",
    "    * cashflows: a list object in which each element is a tuple of the form (date, amount), where date is a python datetime.date object and amount is an integer or floating point number. Cash outflows (investments) are represented with negative amounts, and cash inflows (returns) are positive amounts.\n",
    "    * guess (optional, default = 0.1): a guess at the solution to be used as a starting point for the numerical solution. \n",
    "    Returns\n",
    "    --------\n",
    "    * Returns the IRR as a single value\n",
    "    \n",
    "    Notes\n",
    "    ----------------\n",
    "    * The Internal Rate of Return (IRR) is the discount rate at which the Net Present Value (NPV) of a series of cash flows is equal to zero. The NPV of the series of cash flows is determined using the xnpv function in this module. The discount rate at which NPV equals zero is found using the secant method of numerical solution. \n",
    "    * This function is equivalent to the Microsoft Excel function of the same name.\n",
    "    * For users that do not have the scipy module installed, there is an alternate version (commented out) that uses the secant_method function defined in the module rather than the scipy.optimize module's numerical solver. Both use the same method of calculation so there should be no difference in performance, but the secant_method function does not fail gracefully in cases where there is no solution, so the scipy.optimize.newton version is preferred.\n",
    "    \"\"\"\n",
    "    #print(optimize.newton(lambda r: xnpv(r,cashflows),guess))\n",
    "    return optimize.newton(lambda r: xnpv(r,cashflows),guess)\n",
    "\n",
    "if __name__ == '__main__':\n",
    "    cashflows=[(date(2017,1,1),5000),(date(2017,2,3),5000),(date(2017,3,1),5000),(date(2017,4,11),5000),(date(2017,5,1),5000),(date(2017,6,25),5000),(date(2017,7,1),-31000)]    \n",
    "    print(xirr(cashflows,0.1))"
   ]
  },
  {
   "cell_type": "code",
   "execution_count": null,
   "metadata": {},
   "outputs": [],
   "source": []
  }
 ],
 "metadata": {
  "kernelspec": {
   "display_name": "Python 3",
   "language": "python",
   "name": "python3"
  },
  "language_info": {
   "codemirror_mode": {
    "name": "ipython",
    "version": 3
   },
   "file_extension": ".py",
   "mimetype": "text/x-python",
   "name": "python",
   "nbconvert_exporter": "python",
   "pygments_lexer": "ipython3",
   "version": "3.8.2"
  }
 },
 "nbformat": 4,
 "nbformat_minor": 4
}
